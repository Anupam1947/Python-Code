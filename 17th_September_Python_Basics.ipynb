{
 "cells": [
  {
   "cell_type": "code",
   "execution_count": 35,
   "id": "f8808b08",
   "metadata": {},
   "outputs": [
    {
     "name": "stdout",
     "output_type": "stream",
     "text": [
      "Before swapping: 21 15\n",
      "After swapping: 15 21\n"
     ]
    }
   ],
   "source": [
    "#Swap the values of these variables without using any temporary variable\n",
    "x = 21\n",
    "y = 15\n",
    "print(\"Before swapping:\",x, y)\n",
    "x,y = y,x\n",
    "print(\"After swapping:\",x, y)"
   ]
  },
  {
   "cell_type": "code",
   "execution_count": 9,
   "id": "e6f5bf65",
   "metadata": {},
   "outputs": [
    {
     "name": "stdout",
     "output_type": "stream",
     "text": [
      "Enter the length of the rectangle:12\n",
      "Enter the breadth of the rectangle:12\n",
      "Area of the rectangle is: 144\n"
     ]
    }
   ],
   "source": [
    "#Calculates the area of a rectangle.\n",
    "a=int(input(\"Enter the length of the rectangle:\"))\n",
    "b=int(input(\"Enter the breadth of the rectangle:\"))\n",
    "area=(a*b)\n",
    "print(\"Area of the rectangle is:\",area)"
   ]
  },
  {
   "cell_type": "code",
   "execution_count": 13,
   "id": "fc1a8a3e",
   "metadata": {},
   "outputs": [
    {
     "name": "stdout",
     "output_type": "stream",
     "text": [
      "value of the temperature in celcius:35\n",
      "The fahrenheit value is: 95.0\n"
     ]
    }
   ],
   "source": [
    "#Write a Python program that converts temperatures from Celsius to Fahrenheit.\n",
    "c=int(input(\"value of the temperature in celcius:\"))\n",
    "f=((c*9/5)+32)\n",
    "print(\"The fahrenheit value is:\",f)"
   ]
  },
  {
   "cell_type": "code",
   "execution_count": 15,
   "id": "47b9dcdc",
   "metadata": {},
   "outputs": [
    {
     "name": "stdout",
     "output_type": "stream",
     "text": [
      "Enter a string: Python Programming\n",
      "The length of the string is:  18\n"
     ]
    }
   ],
   "source": [
    "#Write a Python program that takes a string as input and prints the length of the string.\n",
    "string = input(\"Enter a string: \")\n",
    "length = len(string)\n",
    "print(\"The length of the string is: \", length)"
   ]
  },
  {
   "cell_type": "code",
   "execution_count": 22,
   "id": "48229cfb",
   "metadata": {},
   "outputs": [
    {
     "name": "stdout",
     "output_type": "stream",
     "text": [
      "Enter a string value:Python Programming\n",
      "Number of vowels in the given string are: 4\n"
     ]
    }
   ],
   "source": [
    "#Create a program that takes a sentence from the user and counts the number of vowels (a, e, i, o, u) in the string.\n",
    "string=input(\"Enter a string value:\")\n",
    "vowel=set(\"a,e,i,o,u,A,E,I,O,U\")\n",
    "count=0\n",
    "for i in string:\n",
    "    if i in vowel:\n",
    "        count+=1\n",
    "print(\"Number of vowels in the given string are:\",count)"
   ]
  },
  {
   "cell_type": "code",
   "execution_count": 26,
   "id": "1ec1ca85",
   "metadata": {},
   "outputs": [
    {
     "name": "stdout",
     "output_type": "stream",
     "text": [
      "Enter a string: Anupam\n",
      "Reverse string:  mapunA\n"
     ]
    }
   ],
   "source": [
    "#Given a string, reverse the order of characters using string slicing and print the reversed string.\n",
    "string = input(\"Enter a string: \")\n",
    "reversed_string = string[::-1]\n",
    "print(\"Reverse string: \", reversed_string)"
   ]
  },
  {
   "cell_type": "code",
   "execution_count": 31,
   "id": "dddb3ced",
   "metadata": {},
   "outputs": [
    {
     "name": "stdout",
     "output_type": "stream",
     "text": [
      "Enter a string:anupam\n",
      "anupam is not palindrome\n"
     ]
    }
   ],
   "source": [
    "#Write a program that takes a string as input and checks if it is a palindrome.\n",
    "string=input(\"Enter a string:\")\n",
    "rev=string[::-1]\n",
    "if list(string) == list(rev):  \n",
    "   print(string,\"is palindrome\")  \n",
    "else:  \n",
    "   print(string,\"is not palindrome\") "
   ]
  },
  {
   "cell_type": "code",
   "execution_count": 34,
   "id": "769a8e34",
   "metadata": {},
   "outputs": [
    {
     "name": "stdout",
     "output_type": "stream",
     "text": [
      "Enter your string value: I love my country\n",
      "Your desired output is:  Ilovemycountry\n"
     ]
    }
   ],
   "source": [
    "#Create a program that takes a string as input and removes all the spaces from it.\n",
    "string=input(\"Enter your string value: \")\n",
    "A=string.replace(\" \",\"\")\n",
    "print(\"Your desired output is: \",A)"
   ]
  },
  {
   "cell_type": "code",
   "execution_count": null,
   "id": "88a0816a",
   "metadata": {},
   "outputs": [],
   "source": []
  }
 ],
 "metadata": {
  "kernelspec": {
   "display_name": "Python 3 (ipykernel)",
   "language": "python",
   "name": "python3"
  },
  "language_info": {
   "codemirror_mode": {
    "name": "ipython",
    "version": 3
   },
   "file_extension": ".py",
   "mimetype": "text/x-python",
   "name": "python",
   "nbconvert_exporter": "python",
   "pygments_lexer": "ipython3",
   "version": "3.11.4"
  }
 },
 "nbformat": 4,
 "nbformat_minor": 5
}
